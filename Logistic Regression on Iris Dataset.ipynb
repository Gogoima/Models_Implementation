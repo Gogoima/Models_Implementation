{
 "cells": [
  {
   "cell_type": "markdown",
   "id": "8dbb4ee5",
   "metadata": {},
   "source": [
    "#### Run the code in the below cell to load the iris data from sklearn dataset:\n",
    "\n",
    "- The features are the dimensions of flowers petals belonging to iris species\n",
    "- The target names are the species to which the flower belongs.They are mapped as 0,1 and 2 \n",
    "- In this excercise you will perform logistic regression predict the species of flow given the petal dimensions as features\n"
   ]
  },
  {
   "cell_type": "code",
   "execution_count": 1,
   "id": "c13ceff2",
   "metadata": {},
   "outputs": [],
   "source": [
    "#importing packages\n",
    "from sklearn import datasets\n",
    "from sklearn.model_selection import train_test_split\n",
    "from sklearn.linear_model import LogisticRegression\n",
    "from sklearn.metrics import classification_report"
   ]
  },
  {
   "cell_type": "markdown",
   "id": "822f293f",
   "metadata": {},
   "source": [
    "#### Loading datasets"
   ]
  },
  {
   "cell_type": "code",
   "execution_count": 2,
   "id": "846a9bae",
   "metadata": {},
   "outputs": [
    {
     "name": "stdout",
     "output_type": "stream",
     "text": [
      "Features names: \n",
      " ['sepal length (cm)', 'sepal width (cm)', 'petal length (cm)', 'petal width (cm)']\n",
      "\n",
      "Target names: \n",
      " ['setosa' 'versicolor' 'virginica']\n"
     ]
    }
   ],
   "source": [
    "iris = datasets.load_iris()\n",
    "iris_X = iris.data\n",
    "iris_y = iris.target\n",
    "\n",
    "print(\"Features names: \\n\",iris.feature_names)\n",
    "print(\"\\nTarget names: \\n\" ,iris.target_names)"
   ]
  },
  {
   "cell_type": "markdown",
   "id": "05772759",
   "metadata": {},
   "source": [
    "#### Split the data into train and test set with test_size = 0.33 and random_state = 101"
   ]
  },
  {
   "cell_type": "code",
   "execution_count": 3,
   "id": "92afbef5",
   "metadata": {},
   "outputs": [],
   "source": [
    "X_train, X_test, y_train, y_test = train_test_split(iris_X, iris_y, test_size = 0.33, random_state = 101)"
   ]
  },
  {
   "cell_type": "markdown",
   "id": "a79b2aa5",
   "metadata": {},
   "source": [
    "#### Logistic regression initialiation and assigned to variable 'model ,  and then 'fit the model with train data(X_train and y_train)"
   ]
  },
  {
   "cell_type": "code",
   "execution_count": 4,
   "id": "12d2d942",
   "metadata": {},
   "outputs": [
    {
     "data": {
      "text/plain": [
       "LogisticRegression()"
      ]
     },
     "execution_count": 4,
     "metadata": {},
     "output_type": "execute_result"
    }
   ],
   "source": [
    "model = LogisticRegression()\n",
    "model.fit(X_train, y_train)"
   ]
  },
  {
   "cell_type": "code",
   "execution_count": 5,
   "id": "e3826716",
   "metadata": {},
   "outputs": [],
   "source": [
    "# Using the model predict the output of test data (i.e) X_test\n",
    "y_pred = model.predict(X_test)"
   ]
  },
  {
   "cell_type": "markdown",
   "id": "64d18f9b",
   "metadata": {},
   "source": [
    "#### Model Check"
   ]
  },
  {
   "cell_type": "code",
   "execution_count": 6,
   "id": "53f49889",
   "metadata": {},
   "outputs": [
    {
     "name": "stdout",
     "output_type": "stream",
     "text": [
      "              precision    recall  f1-score   support\n",
      "\n",
      "           0       1.00      1.00      1.00        15\n",
      "           1       1.00      0.95      0.98        22\n",
      "           2       0.93      1.00      0.96        13\n",
      "\n",
      "    accuracy                           0.98        50\n",
      "   macro avg       0.98      0.98      0.98        50\n",
      "weighted avg       0.98      0.98      0.98        50\n",
      "\n"
     ]
    }
   ],
   "source": [
    "print(classification_report(y_test, y_pred))"
   ]
  }
 ],
 "metadata": {
  "kernelspec": {
   "display_name": "Python 3",
   "language": "python",
   "name": "python3"
  },
  "language_info": {
   "codemirror_mode": {
    "name": "ipython",
    "version": 3
   },
   "file_extension": ".py",
   "mimetype": "text/x-python",
   "name": "python",
   "nbconvert_exporter": "python",
   "pygments_lexer": "ipython3",
   "version": "3.8.8"
  }
 },
 "nbformat": 4,
 "nbformat_minor": 5
}
